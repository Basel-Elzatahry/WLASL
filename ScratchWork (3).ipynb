{
 "cells": [
  {
   "cell_type": "markdown",
   "id": "a71bf886-b082-41ef-a8a9-892774750449",
   "metadata": {},
   "source": [
    "# Importing needed libraries"
   ]
  },
  {
   "cell_type": "code",
   "execution_count": 160,
   "id": "5652f7a7-4916-41de-8d65-15fd03830d55",
   "metadata": {},
   "outputs": [],
   "source": [
    "from tensorflow import keras\n",
    "from imutils import paths\n",
    "from PIL import Image\n",
    "\n",
    "\n",
    "import matplotlib.pyplot as plt\n",
    "import tensorflow as tf\n",
    "import pandas as pd\n",
    "import numpy as np\n",
    "import imageio\n",
    "import cv2\n",
    "import os\n",
    "from sklearn.model_selection import train_test_split\n",
    "from sklearn.preprocessing import LabelBinarizer\n",
    "from sklearn.metrics import classification_report\n",
    "from tensorflow.keras import layers\n",
    "from tensorflow.keras import optimizers\n",
    "from tensorflow.keras import losses\n",
    "from tensorflow.keras import metrics\n",
    "from keras.layers import Conv2D, BatchNormalization, \\\n",
    "    MaxPool2D, GlobalMaxPool2D\n",
    "from keras.layers import TimeDistributed, GRU, Dense, Dropout, Input, Embedding, Bidirectional, LSTM\n",
    "from keras.layers import Dense, Input, LSTM, Embedding, Dropout, Activation, Conv1D, BatchNormalization, LayerNormalization\n",
    "from keras.layers import Bidirectional, GlobalMaxPool1D\n",
    "from keras.models import Model, Sequential\n",
    "from keras import initializers, regularizers, constraints, optimizers, layers\n",
    "from sklearn.metrics import confusion_matrix\n",
    "from keras.callbacks import EarlyStopping"
   ]
  },
  {
   "cell_type": "markdown",
   "id": "b2acfe53-c9b4-4728-985b-7c9c5cc04aca",
   "metadata": {},
   "source": [
    "# Global parameters"
   ]
  },
  {
   "cell_type": "code",
   "execution_count": 3,
   "id": "b26bdf33-8ae2-4361-9c42-35abbb01f704",
   "metadata": {},
   "outputs": [],
   "source": [
    "WIDTH = 360\n",
    "HEIGHT = 270\n",
    "\n",
    "SIZE = (270, 360)\n",
    "CHANNELS = 1\n",
    "NBFRAME = 50\n",
    "BS = 5"
   ]
  },
  {
   "cell_type": "markdown",
   "id": "20042c50-dc47-40f6-9be5-30f05a2cf340",
   "metadata": {},
   "source": [
    "# A sample of the data and how it looks like"
   ]
  },
  {
   "cell_type": "markdown",
   "id": "b13f6ca1-693b-4598-be92-768c49f383d3",
   "metadata": {},
   "source": [
    "CSV files outline"
   ]
  },
  {
   "cell_type": "code",
   "execution_count": 4,
   "id": "3ae5880b-2b95-4c07-ade9-5f6269d8dc50",
   "metadata": {},
   "outputs": [
    {
     "name": "stdout",
     "output_type": "stream",
     "text": [
      "Total videos for training: 106\n"
     ]
    },
    {
     "data": {
      "text/html": [
       "<div>\n",
       "<style scoped>\n",
       "    .dataframe tbody tr th:only-of-type {\n",
       "        vertical-align: middle;\n",
       "    }\n",
       "\n",
       "    .dataframe tbody tr th {\n",
       "        vertical-align: top;\n",
       "    }\n",
       "\n",
       "    .dataframe thead th {\n",
       "        text-align: right;\n",
       "    }\n",
       "</style>\n",
       "<table border=\"1\" class=\"dataframe\">\n",
       "  <thead>\n",
       "    <tr style=\"text-align: right;\">\n",
       "      <th></th>\n",
       "      <th>0</th>\n",
       "      <th>1</th>\n",
       "      <th>2</th>\n",
       "      <th>3</th>\n",
       "      <th>4</th>\n",
       "      <th>5</th>\n",
       "      <th>6</th>\n",
       "      <th>7</th>\n",
       "      <th>8</th>\n",
       "      <th>9</th>\n",
       "      <th>10</th>\n",
       "      <th>11</th>\n",
       "      <th>12</th>\n",
       "      <th>13</th>\n",
       "      <th>14</th>\n",
       "      <th>15</th>\n",
       "      <th>16</th>\n",
       "      <th>17</th>\n",
       "    </tr>\n",
       "  </thead>\n",
       "  <tbody>\n",
       "    <tr>\n",
       "      <th>93</th>\n",
       "      <td>1</td>\n",
       "      <td>765</td>\n",
       "      <td>early1</td>\n",
       "      <td>NaN</td>\n",
       "      <td>2006_10_10</td>\n",
       "      <td>8</td>\n",
       "      <td>NaN</td>\n",
       "      <td>mov/ASL_2006_10_10/scene8-camera1.mov</td>\n",
       "      <td>507</td>\n",
       "      <td>523</td>\n",
       "      <td>NaN</td>\n",
       "      <td>NaN</td>\n",
       "      <td>NaN</td>\n",
       "      <td>NaN</td>\n",
       "      <td>507</td>\n",
       "      <td>523</td>\n",
       "      <td>3078</td>\n",
       "      <td>1</td>\n",
       "    </tr>\n",
       "    <tr>\n",
       "      <th>31</th>\n",
       "      <td>1</td>\n",
       "      <td>283</td>\n",
       "      <td>blue</td>\n",
       "      <td>NaN</td>\n",
       "      <td>2006_10_10</td>\n",
       "      <td>4</td>\n",
       "      <td>NaN</td>\n",
       "      <td>mov/ASL_2006_10_10/scene4-camera1.mov</td>\n",
       "      <td>1156</td>\n",
       "      <td>1183</td>\n",
       "      <td>NaN</td>\n",
       "      <td>NaN</td>\n",
       "      <td>NaN</td>\n",
       "      <td>NaN</td>\n",
       "      <td>1156</td>\n",
       "      <td>1183</td>\n",
       "      <td>3017</td>\n",
       "      <td>1</td>\n",
       "    </tr>\n",
       "    <tr>\n",
       "      <th>85</th>\n",
       "      <td>1</td>\n",
       "      <td>697</td>\n",
       "      <td>divorce</td>\n",
       "      <td>NaN</td>\n",
       "      <td>2006_10_10</td>\n",
       "      <td>7</td>\n",
       "      <td>NaN</td>\n",
       "      <td>mov/ASL_2006_10_10/scene7-camera1.mov</td>\n",
       "      <td>2124</td>\n",
       "      <td>2139</td>\n",
       "      <td>NaN</td>\n",
       "      <td>NaN</td>\n",
       "      <td>NaN</td>\n",
       "      <td>NaN</td>\n",
       "      <td>2124</td>\n",
       "      <td>2139</td>\n",
       "      <td>3066</td>\n",
       "      <td>1</td>\n",
       "    </tr>\n",
       "    <tr>\n",
       "      <th>88</th>\n",
       "      <td>1</td>\n",
       "      <td>716</td>\n",
       "      <td>dont_want</td>\n",
       "      <td>NaN</td>\n",
       "      <td>2006_10_10</td>\n",
       "      <td>7</td>\n",
       "      <td>NaN</td>\n",
       "      <td>mov/ASL_2006_10_10/scene7-camera1.mov</td>\n",
       "      <td>2519</td>\n",
       "      <td>2538</td>\n",
       "      <td>NaN</td>\n",
       "      <td>NaN</td>\n",
       "      <td>NaN</td>\n",
       "      <td>NaN</td>\n",
       "      <td>2519</td>\n",
       "      <td>2538</td>\n",
       "      <td>3072</td>\n",
       "      <td>1</td>\n",
       "    </tr>\n",
       "    <tr>\n",
       "      <th>42</th>\n",
       "      <td>1</td>\n",
       "      <td>367</td>\n",
       "      <td>california</td>\n",
       "      <td>NaN</td>\n",
       "      <td>2006_10_10</td>\n",
       "      <td>5</td>\n",
       "      <td>NaN</td>\n",
       "      <td>mov/ASL_2006_10_10/scene5-camera1.mov</td>\n",
       "      <td>356</td>\n",
       "      <td>382</td>\n",
       "      <td>NaN</td>\n",
       "      <td>NaN</td>\n",
       "      <td>NaN</td>\n",
       "      <td>NaN</td>\n",
       "      <td>356</td>\n",
       "      <td>382</td>\n",
       "      <td>3025</td>\n",
       "      <td>1</td>\n",
       "    </tr>\n",
       "    <tr>\n",
       "      <th>45</th>\n",
       "      <td>1</td>\n",
       "      <td>435</td>\n",
       "      <td>cheese</td>\n",
       "      <td>NaN</td>\n",
       "      <td>2006_10_10</td>\n",
       "      <td>5</td>\n",
       "      <td>NaN</td>\n",
       "      <td>mov/ASL_2006_10_10/scene5-camera1.mov</td>\n",
       "      <td>892</td>\n",
       "      <td>924</td>\n",
       "      <td>NaN</td>\n",
       "      <td>NaN</td>\n",
       "      <td>NaN</td>\n",
       "      <td>NaN</td>\n",
       "      <td>892</td>\n",
       "      <td>924</td>\n",
       "      <td>3035</td>\n",
       "      <td>1</td>\n",
       "    </tr>\n",
       "    <tr>\n",
       "      <th>86</th>\n",
       "      <td>1</td>\n",
       "      <td>703</td>\n",
       "      <td>doctor2</td>\n",
       "      <td>NaN</td>\n",
       "      <td>2006_10_10</td>\n",
       "      <td>7</td>\n",
       "      <td>NaN</td>\n",
       "      <td>mov/ASL_2006_10_10/scene7-camera1.mov</td>\n",
       "      <td>2259</td>\n",
       "      <td>2282</td>\n",
       "      <td>NaN</td>\n",
       "      <td>NaN</td>\n",
       "      <td>NaN</td>\n",
       "      <td>NaN</td>\n",
       "      <td>2259</td>\n",
       "      <td>2282</td>\n",
       "      <td>3067</td>\n",
       "      <td>1</td>\n",
       "    </tr>\n",
       "    <tr>\n",
       "      <th>100</th>\n",
       "      <td>1</td>\n",
       "      <td>825</td>\n",
       "      <td>europe</td>\n",
       "      <td>NaN</td>\n",
       "      <td>2006_10_10</td>\n",
       "      <td>8</td>\n",
       "      <td>NaN</td>\n",
       "      <td>mov/ASL_2006_10_10/scene8-camera1.mov</td>\n",
       "      <td>2008</td>\n",
       "      <td>2059</td>\n",
       "      <td>NaN</td>\n",
       "      <td>NaN</td>\n",
       "      <td>NaN</td>\n",
       "      <td>NaN</td>\n",
       "      <td>2008</td>\n",
       "      <td>2059</td>\n",
       "      <td>3087</td>\n",
       "      <td>1</td>\n",
       "    </tr>\n",
       "    <tr>\n",
       "      <th>19</th>\n",
       "      <td>1</td>\n",
       "      <td>161</td>\n",
       "      <td>awkward</td>\n",
       "      <td>NaN</td>\n",
       "      <td>2006_10_10</td>\n",
       "      <td>3</td>\n",
       "      <td>NaN</td>\n",
       "      <td>mov/ASL_2006_10_10/scene3-camera1.mov</td>\n",
       "      <td>1027</td>\n",
       "      <td>1086</td>\n",
       "      <td>NaN</td>\n",
       "      <td>NaN</td>\n",
       "      <td>NaN</td>\n",
       "      <td>NaN</td>\n",
       "      <td>1027</td>\n",
       "      <td>1086</td>\n",
       "      <td>3010</td>\n",
       "      <td>1</td>\n",
       "    </tr>\n",
       "    <tr>\n",
       "      <th>96</th>\n",
       "      <td>1</td>\n",
       "      <td>771</td>\n",
       "      <td>east</td>\n",
       "      <td>NaN</td>\n",
       "      <td>2006_10_10</td>\n",
       "      <td>8</td>\n",
       "      <td>NaN</td>\n",
       "      <td>mov/ASL_2006_10_10/scene8-camera1.mov</td>\n",
       "      <td>1059</td>\n",
       "      <td>1077</td>\n",
       "      <td>NaN</td>\n",
       "      <td>NaN</td>\n",
       "      <td>NaN</td>\n",
       "      <td>NaN</td>\n",
       "      <td>1059</td>\n",
       "      <td>1077</td>\n",
       "      <td>3080</td>\n",
       "      <td>1</td>\n",
       "    </tr>\n",
       "  </tbody>\n",
       "</table>\n",
       "</div>"
      ],
      "text/plain": [
       "     0    1           2    3           4  5    6   \\\n",
       "93    1  765      early1  NaN  2006_10_10  8  NaN   \n",
       "31    1  283        blue  NaN  2006_10_10  4  NaN   \n",
       "85    1  697     divorce  NaN  2006_10_10  7  NaN   \n",
       "88    1  716   dont_want  NaN  2006_10_10  7  NaN   \n",
       "42    1  367  california  NaN  2006_10_10  5  NaN   \n",
       "45    1  435      cheese  NaN  2006_10_10  5  NaN   \n",
       "86    1  703     doctor2  NaN  2006_10_10  7  NaN   \n",
       "100   1  825      europe  NaN  2006_10_10  8  NaN   \n",
       "19    1  161     awkward  NaN  2006_10_10  3  NaN   \n",
       "96    1  771        east  NaN  2006_10_10  8  NaN   \n",
       "\n",
       "                                        7     8     9    10   11   12   13  \\\n",
       "93   mov/ASL_2006_10_10/scene8-camera1.mov   507   523  NaN  NaN  NaN  NaN   \n",
       "31   mov/ASL_2006_10_10/scene4-camera1.mov  1156  1183  NaN  NaN  NaN  NaN   \n",
       "85   mov/ASL_2006_10_10/scene7-camera1.mov  2124  2139  NaN  NaN  NaN  NaN   \n",
       "88   mov/ASL_2006_10_10/scene7-camera1.mov  2519  2538  NaN  NaN  NaN  NaN   \n",
       "42   mov/ASL_2006_10_10/scene5-camera1.mov   356   382  NaN  NaN  NaN  NaN   \n",
       "45   mov/ASL_2006_10_10/scene5-camera1.mov   892   924  NaN  NaN  NaN  NaN   \n",
       "86   mov/ASL_2006_10_10/scene7-camera1.mov  2259  2282  NaN  NaN  NaN  NaN   \n",
       "100  mov/ASL_2006_10_10/scene8-camera1.mov  2008  2059  NaN  NaN  NaN  NaN   \n",
       "19   mov/ASL_2006_10_10/scene3-camera1.mov  1027  1086  NaN  NaN  NaN  NaN   \n",
       "96   mov/ASL_2006_10_10/scene8-camera1.mov  1059  1077  NaN  NaN  NaN  NaN   \n",
       "\n",
       "       14    15    16 17  \n",
       "93    507   523  3078  1  \n",
       "31   1156  1183  3017  1  \n",
       "85   2124  2139  3066  1  \n",
       "88   2519  2538  3072  1  \n",
       "42    356   382  3025  1  \n",
       "45    892   924  3035  1  \n",
       "86   2259  2282  3067  1  \n",
       "100  2008  2059  3087  1  \n",
       "19   1027  1086  3010  1  \n",
       "96   1059  1077  3080  1  "
      ]
     },
     "execution_count": 4,
     "metadata": {},
     "output_type": "execute_result"
    }
   ],
   "source": [
    "train_df = data = pd.read_csv(\"csvFiles/splitted/Lana.CSV\", header = None)\n",
    "#test_df = pd.read_csv(\"test.csv\")\n",
    "\n",
    "print(f\"Total videos for training: {len(train_df)}\")\n",
    "#print(f\"Total videos for testing: {len(test_df)}\")\n",
    "\n",
    "train_df.sample(10)"
   ]
  },
  {
   "cell_type": "code",
   "execution_count": 5,
   "id": "d807279f-997f-4736-9140-1e9c30e43774",
   "metadata": {},
   "outputs": [],
   "source": [
    "def plot_image(images, captions=None, cmap=None ):\n",
    "    f, axes = plt.subplots(1, len(images), sharey=True)\n",
    "    f.set_figwidth(15)\n",
    "    for ax,image,caption in zip(axes, images, captions):\n",
    "        ax.imshow(image, cmap)\n",
    "        ax.set_title(caption)"
   ]
  },
  {
   "cell_type": "code",
   "execution_count": 6,
   "id": "ff5a2e14-b974-4469-9370-8beef0cc0902",
   "metadata": {},
   "outputs": [],
   "source": [
    "\n",
    "def crop_center_square(frame):\n",
    "    return frame[150:420, 120:480]"
   ]
  },
  {
   "cell_type": "markdown",
   "id": "688301b5-4d92-4e6b-a1a0-d179e55bb5db",
   "metadata": {},
   "source": [
    "Showing frames of the video"
   ]
  },
  {
   "cell_type": "code",
   "execution_count": 7,
   "id": "bb35cc1f-5cd4-4c67-a192-4dc36018d1e0",
   "metadata": {},
   "outputs": [
    {
     "name": "stdout",
     "output_type": "stream",
     "text": [
      "img1 height = 480\n",
      "img1 width = 640\n"
     ]
    }
   ],
   "source": [
    "cap = cv2.VideoCapture('mov/ASL_2006_10_10/scene2-camera1.mov')\n",
    "cap.set(1,398)  # Where frame_no is the frame you want\n",
    "ret, frame = cap.read()  # Read the frame\n",
    "img1 = frame.copy()\n",
    "print ('img1 height = ' + str(img1.shape[0]))\n",
    "print ('img1 width = ' + str(img1.shape[1]))\n",
    "img1 = cv2.cvtColor(img1, cv2.COLOR_BGR2GRAY)\n",
    "img2 = crop_center_square(img1)"
   ]
  },
  {
   "cell_type": "code",
   "execution_count": 8,
   "id": "0262f483-d6c3-4f2b-959e-5dcacc266129",
   "metadata": {},
   "outputs": [
    {
     "data": {
      "image/png": "[encoded data removed]",
      "text/plain": [
       "<Figure size 1080x288 with 2 Axes>"
      ]
     },
     "metadata": {
      "needs_background": "light"
     },
     "output_type": "display_data"
    }
   ],
   "source": [
    "plot_image([img1, img2], cmap='gray', captions=[\"Normal frame\", \"Cropped frame\"])"
   ]
  },
  {
   "cell_type": "markdown",
   "id": "607afc38-8bfb-49d8-be57-be9b48780db1",
   "metadata": {},
   "source": [
    "# Preprocessing the data"
   ]
  },
  {
   "cell_type": "code",
   "execution_count": 47,
   "id": "f4154506-73d9-4acb-ba88-1890f596ab6b",
   "metadata": {},
   "outputs": [
    {
     "name": "stdout",
     "output_type": "stream",
     "text": [
      "okay\n",
      "csvFiles/splitted/Liz.CSV\n",
      "okay\n",
      "csvFiles/splitted/Naomi.CSV\n",
      "okay\n",
      "csvFiles/splitted/Lana.CSV\n",
      "okay\n",
      "csvFiles/splitted/Tyler.CSV\n",
      "okay\n",
      "csvFiles/splitted/Dana.CSV\n"
     ]
    }
   ],
   "source": [
    "x_train = []\n",
    "y_train = []\n",
    "maxi = 0\n",
    "mini = 200\n",
    "def build_dics():\n",
    "    maxi = -1\n",
    "    mini = 200\n",
    "    directory = \"csvFiles/splitted/\"\n",
    "    for filename in os.listdir(directory):\n",
    "        if ((filename == \"Liz.CSV\" or filename == \"Tyler.CSV\" or filename == \"Naomi.CSV\" or filename == \"Lana.CSV\" or filename == \"Dana.CSV\")):\n",
    "            print(\"okay\")\n",
    "            temp = directory + filename\n",
    "            print(temp)\n",
    "            data = pd.read_csv(temp, header = None)\n",
    "            signGloss = data[2]\n",
    "            sessions = data[4]\n",
    "            scene = data[5]\n",
    "            mov = data[7]\n",
    "            glossStart = data[8]\n",
    "            glossEnd = data[9]\n",
    "            for i in range(2,100):\n",
    "                    cap = cv2.VideoCapture(mov[i])\n",
    "                    firstFrame = int(glossStart[i])\n",
    "                    endFrame = int(glossEnd[i])+1\n",
    "                    \n",
    "                    temp_frames = []\n",
    "                    if(endFrame - firstFrame >= 20):\n",
    "                        maxi = max(maxi, endFrame - firstFrame)\n",
    "                        mini = min(mini, endFrame - firstFrame)\n",
    "                        while(firstFrame != endFrame):\n",
    "                            cap.set(1,firstFrame-1)  # Where frame_no is the frame you want\n",
    "                            ret, frame = cap.read()  # Read the frame\n",
    "                            if(ret):\n",
    "                                img = cv2.cvtColor(frame, cv2.COLOR_BGR2GRAY)\n",
    "                                img = crop_center_square(img)\n",
    "                                temp_frames.append(img)\n",
    "                            firstFrame += 1\n",
    "\n",
    "                        x_train.append(temp_frames)\n",
    "                        y_train.append(signGloss[i])\n",
    "    return maxi, mini\n",
    "maxi,mini = build_dics()   "
   ]
  },
  {
   "cell_type": "code",
   "execution_count": 48,
   "id": "ba015dc2-1e06-4825-8554-3bac68c534b9",
   "metadata": {},
   "outputs": [
    {
     "name": "stdout",
     "output_type": "stream",
     "text": [
      "max frames:  128\n",
      "mini frames:  20\n"
     ]
    }
   ],
   "source": [
    "print(\"max frames: \", maxi)\n",
    "print(\"mini frames: \", mini)"
   ]
  },
  {
   "cell_type": "code",
   "execution_count": 49,
   "id": "fc421e25-0109-4899-bf43-9b2265f0e403",
   "metadata": {},
   "outputs": [],
   "source": [
    "test = x_train"
   ]
  },
  {
   "cell_type": "code",
   "execution_count": 50,
   "id": "0e99c63e-0be9-4a83-a85d-a050249ab012",
   "metadata": {},
   "outputs": [],
   "source": [
    "test[0] = test[0] + [[[0]*480]*480] *(maxi - len(test[0]))"
   ]
  },
  {
   "cell_type": "code",
   "execution_count": 51,
   "id": "e2fe43fa-398c-441b-ae51-ba596c8178db",
   "metadata": {},
   "outputs": [
    {
     "data": {
      "text/plain": [
       "128"
      ]
     },
     "execution_count": 51,
     "metadata": {},
     "output_type": "execute_result"
    }
   ],
   "source": [
    "len(test[0])"
   ]
  },
  {
   "cell_type": "code",
   "execution_count": 52,
   "id": "21269d41-defa-4ed5-b37a-bb7fa188a3ee",
   "metadata": {},
   "outputs": [],
   "source": [
    "#[[[0.0]*480]*480] * (maxi - len(x_train[i]))"
   ]
  },
  {
   "cell_type": "code",
   "execution_count": 53,
   "id": "88e27ac6-97d9-47fe-89a5-e6541792a316",
   "metadata": {},
   "outputs": [],
   "source": [
    "for i in range(len(x_train)):\n",
    "    x_train[i] = x_train[i][:20]"
   ]
  },
  {
   "cell_type": "code",
   "execution_count": 54,
   "id": "ceaa8b89-a72c-4ade-8b79-a6e710b8da01",
   "metadata": {},
   "outputs": [],
   "source": [
    "dictionary = {}\n",
    "for i in range(len(y_train)):\n",
    "    if(x_train[i] != []):\n",
    "        if (y_train[i] in dictionary.keys()):\n",
    "            dictionary[y_train[i]].append(x_train[i])\n",
    "        else:\n",
    "            dictionary[y_train[i]] = [x_train[i]]"
   ]
  },
  {
   "cell_type": "code",
   "execution_count": 55,
   "id": "b2b0c8bc-e924-424a-a3c4-d3551b3ed71a",
   "metadata": {},
   "outputs": [],
   "source": [
    "videos = []\n",
    "labels = []\n",
    "for i in dictionary.keys():\n",
    "    if len(dictionary[i]) > 1:\n",
    "        for j in dictionary[i]:\n",
    "            labels.append(i)\n",
    "            videos.append(j)"
   ]
  },
  {
   "cell_type": "code",
   "execution_count": 56,
   "id": "2dca6c0a-817b-462d-a91c-29b95e099174",
   "metadata": {},
   "outputs": [],
   "source": [
    "videos = np.array(videos)\n",
    "labels = np.array(labels)"
   ]
  },
  {
   "cell_type": "code",
   "execution_count": 57,
   "id": "7ee45318-9a0c-4b0b-950d-9d1107aa33e5",
   "metadata": {},
   "outputs": [
    {
     "data": {
      "text/plain": [
       "(112, 20, 270, 360)"
      ]
     },
     "execution_count": 57,
     "metadata": {},
     "output_type": "execute_result"
    }
   ],
   "source": [
    "videos.shape"
   ]
  },
  {
   "cell_type": "code",
   "execution_count": 58,
   "id": "2118ddfa-3607-4324-9d46-2eb7cf09ac59",
   "metadata": {},
   "outputs": [],
   "source": [
    "videos.resize(videos.shape[0] * videos.shape[1], 270, 360)"
   ]
  },
  {
   "cell_type": "code",
   "execution_count": 59,
   "id": "151910ec-c7cc-4361-869c-d58b1b134c39",
   "metadata": {},
   "outputs": [
    {
     "data": {
      "text/plain": [
       "(112, 54)"
      ]
     },
     "execution_count": 59,
     "metadata": {},
     "output_type": "execute_result"
    }
   ],
   "source": [
    "lb = LabelBinarizer()\n",
    "labels = lb.fit_transform(labels)\n",
    "labels.shape"
   ]
  },
  {
   "cell_type": "code",
   "execution_count": 60,
   "id": "6e380b3c-e879-4bb4-84eb-2f4ac8148049",
   "metadata": {},
   "outputs": [],
   "source": [
    "labels_ext = []\n",
    "for i in labels:\n",
    "    labels_ext += [i]*20"
   ]
  },
  {
   "cell_type": "code",
   "execution_count": 61,
   "id": "2d38122c-3c3b-48df-bb08-4bc1fd6b50be",
   "metadata": {},
   "outputs": [],
   "source": [
    "labels_ext = np.array(labels_ext)"
   ]
  },
  {
   "cell_type": "code",
   "execution_count": 62,
   "id": "01378b11-e9fb-4848-a356-4a164110fd5d",
   "metadata": {},
   "outputs": [
    {
     "data": {
      "text/plain": [
       "(2240, 54)"
      ]
     },
     "execution_count": 62,
     "metadata": {},
     "output_type": "execute_result"
    }
   ],
   "source": [
    "labels_ext.shape"
   ]
  },
  {
   "cell_type": "code",
   "execution_count": 63,
   "id": "a4c32520-8864-48b3-aeb1-366aad261e3b",
   "metadata": {
    "jp-MarkdownHeadingCollapsed": true,
    "tags": []
   },
   "outputs": [],
   "source": [
    "trainX, validX, trainY, validY = train_test_split(videos,labels_ext, test_size=0.25, train_size=None, random_state=None, shuffle=True, stratify=None)"
   ]
  },
  {
   "cell_type": "code",
   "execution_count": 64,
   "id": "34e025ec-34ce-4974-9c5b-7020834ce650",
   "metadata": {},
   "outputs": [],
   "source": [
    "trainX, testX, trainY, testY = train_test_split(videos,labels_ext, test_size=0.2, train_size=None, random_state=None, shuffle=True, stratify=None)"
   ]
  },
  {
   "cell_type": "markdown",
   "id": "eef4c7c9-c524-4a34-a641-56a71fc05c14",
   "metadata": {},
   "source": [
    "# Building the CNN model\n",
    " - A helper model that would operate on each frame seperately"
   ]
  },
  {
   "cell_type": "code",
   "execution_count": 65,
   "id": "566cb5d4-7fdb-42ea-8062-a38289b4fb2c",
   "metadata": {},
   "outputs": [],
   "source": [
    "from keras.layers import Conv2D, BatchNormalization, \\\n",
    "    MaxPool2D, GlobalMaxPool2D, Dense\n",
    "def build_convnet(shape=(WIDTH, HEIGHT, 1)):\n",
    "    momentum = .9\n",
    "    model = keras.Sequential()\n",
    "    model.add(Conv2D(64, (3,3), input_shape=shape,\n",
    "        padding='same', activation='relu'))\n",
    "    model.add(Conv2D(64, (3,3), padding='same', activation='relu'))\n",
    "    model.add(BatchNormalization(momentum=momentum))\n",
    "    \n",
    "    model.add(MaxPool2D())\n",
    "    \n",
    "    model.add(Conv2D(128, (3,3), padding='same', activation='relu'))\n",
    "    model.add(Conv2D(128, (3,3), padding='same', activation='relu'))\n",
    "    model.add(BatchNormalization(momentum=momentum))\n",
    "    \n",
    "    model.add(MaxPool2D())\n",
    "    \n",
    "    model.add(Conv2D(256, (3,3), padding='same', activation='relu'))\n",
    "    model.add(Conv2D(256, (3,3), padding='same', activation='relu'))\n",
    "    model.add(BatchNormalization(momentum=momentum))\n",
    "    \n",
    "    model.add(MaxPool2D())\n",
    "    \n",
    "    model.add(Conv2D(512, (3,3), padding='same', activation='relu'))\n",
    "    model.add(Conv2D(512, (3,3), padding='same', activation='relu'))\n",
    "    model.add(BatchNormalization(momentum=momentum))\n",
    "    \n",
    "    # flatten...\n",
    "    model.add(GlobalMaxPool2D())\n",
    "    model.add(Dense(labels.shape[1], activation=\"softmax\"))\n",
    "    return model"
   ]
  },
  {
   "cell_type": "code",
   "execution_count": 66,
   "id": "358c3eef-86c2-414f-bb2d-2d97517d37a4",
   "metadata": {},
   "outputs": [],
   "source": [
    "model1 = build_convnet((HEIGHT, WIDTH, 1))"
   ]
  },
  {
   "cell_type": "code",
   "execution_count": 67,
   "id": "7b58f7a3-2805-488a-900f-a00f5f4cf5d2",
   "metadata": {},
   "outputs": [
    {
     "name": "stdout",
     "output_type": "stream",
     "text": [
      "Model: \"sequential_3\"\n",
      "_________________________________________________________________\n",
      " Layer (type)                Output Shape              Param #   \n",
      "=================================================================\n",
      " conv2d_24 (Conv2D)          (None, 270, 360, 64)      640       \n",
      "                                                                 \n",
      " conv2d_25 (Conv2D)          (None, 270, 360, 64)      36928     \n",
      "                                                                 \n",
      " batch_normalization_12 (Bat  (None, 270, 360, 64)     256       \n",
      " chNormalization)                                                \n",
      "                                                                 \n",
      " max_pooling2d_9 (MaxPooling  (None, 135, 180, 64)     0         \n",
      " 2D)                                                             \n",
      "                                                                 \n",
      " conv2d_26 (Conv2D)          (None, 135, 180, 128)     73856     \n",
      "                                                                 \n",
      " conv2d_27 (Conv2D)          (None, 135, 180, 128)     147584    \n",
      "                                                                 \n",
      " batch_normalization_13 (Bat  (None, 135, 180, 128)    512       \n",
      " chNormalization)                                                \n",
      "                                                                 \n",
      " max_pooling2d_10 (MaxPoolin  (None, 67, 90, 128)      0         \n",
      " g2D)                                                            \n",
      "                                                                 \n",
      " conv2d_28 (Conv2D)          (None, 67, 90, 256)       295168    \n",
      "                                                                 \n",
      " conv2d_29 (Conv2D)          (None, 67, 90, 256)       590080    \n",
      "                                                                 \n",
      " batch_normalization_14 (Bat  (None, 67, 90, 256)      1024      \n",
      " chNormalization)                                                \n",
      "                                                                 \n",
      " max_pooling2d_11 (MaxPoolin  (None, 33, 45, 256)      0         \n",
      " g2D)                                                            \n",
      "                                                                 \n",
      " conv2d_30 (Conv2D)          (None, 33, 45, 512)       1180160   \n",
      "                                                                 \n",
      " conv2d_31 (Conv2D)          (None, 33, 45, 512)       2359808   \n",
      "                                                                 \n",
      " batch_normalization_15 (Bat  (None, 33, 45, 512)      2048      \n",
      " chNormalization)                                                \n",
      "                                                                 \n",
      " global_max_pooling2d_3 (Glo  (None, 512)              0         \n",
      " balMaxPooling2D)                                                \n",
      "                                                                 \n",
      " dense_3 (Dense)             (None, 54)                27702     \n",
      "                                                                 \n",
      "=================================================================\n",
      "Total params: 4,715,766\n",
      "Trainable params: 4,713,846\n",
      "Non-trainable params: 1,920\n",
      "_________________________________________________________________\n"
     ]
    }
   ],
   "source": [
    "model1.summary()"
   ]
  },
  {
   "cell_type": "code",
   "execution_count": 68,
   "id": "6e08483b-6c54-4e05-a421-a4ed783eb750",
   "metadata": {},
   "outputs": [
    {
     "name": "stdout",
     "output_type": "stream",
     "text": [
      "(1792, 270, 360)\n",
      "(1792, 54)\n",
      "(560, 270, 360)\n",
      "(560, 54)\n",
      "(448, 270, 360)\n",
      "(448, 54)\n"
     ]
    }
   ],
   "source": [
    "print(trainX.shape)\n",
    "print(trainY.shape)\n",
    "print(validX.shape)\n",
    "print(validY.shape)\n",
    "print(testX.shape)\n",
    "print(testY.shape)"
   ]
  },
  {
   "cell_type": "code",
   "execution_count": 69,
   "id": "4f0526d3-88fd-4338-8e07-22ba69811024",
   "metadata": {},
   "outputs": [
    {
     "name": "stdout",
     "output_type": "stream",
     "text": [
      "Epoch 1/20\n",
      "56/56 [==============================] - 26s 455ms/step - loss: 7.0016 - mse: 0.0204 - val_loss: 4.0684 - val_mse: 0.0180\n",
      "Epoch 2/20\n",
      "56/56 [==============================] - 25s 452ms/step - loss: 3.3396 - mse: 0.0172 - val_loss: 3.1037 - val_mse: 0.0167\n",
      "Epoch 3/20\n",
      "56/56 [==============================] - 25s 453ms/step - loss: 2.5313 - mse: 0.0147 - val_loss: 2.0780 - val_mse: 0.0132\n",
      "Epoch 4/20\n",
      "56/56 [==============================] - 25s 454ms/step - loss: 1.4990 - mse: 0.0099 - val_loss: 1.7347 - val_mse: 0.0116\n",
      "Epoch 5/20\n",
      "56/56 [==============================] - 25s 453ms/step - loss: 1.1212 - mse: 0.0075 - val_loss: 1.5605 - val_mse: 0.0110\n",
      "Epoch 6/20\n",
      "56/56 [==============================] - 25s 453ms/step - loss: 0.7000 - mse: 0.0050 - val_loss: 0.7707 - val_mse: 0.0060\n",
      "Epoch 7/20\n",
      "56/56 [==============================] - 25s 454ms/step - loss: 0.5475 - mse: 0.0042 - val_loss: 0.4069 - val_mse: 0.0033\n",
      "Epoch 8/20\n",
      "56/56 [==============================] - 25s 453ms/step - loss: 0.3083 - mse: 0.0023 - val_loss: 0.4260 - val_mse: 0.0036\n",
      "Epoch 9/20\n",
      "56/56 [==============================] - 25s 454ms/step - loss: 0.2948 - mse: 0.0025 - val_loss: 0.3498 - val_mse: 0.0029\n",
      "Epoch 10/20\n",
      "56/56 [==============================] - 25s 454ms/step - loss: 0.4492 - mse: 0.0033 - val_loss: 0.3155 - val_mse: 0.0028\n",
      "Epoch 11/20\n",
      "56/56 [==============================] - 25s 454ms/step - loss: 0.3150 - mse: 0.0024 - val_loss: 0.2516 - val_mse: 0.0021\n",
      "Epoch 12/20\n",
      "56/56 [==============================] - 25s 454ms/step - loss: 0.1623 - mse: 0.0013 - val_loss: 0.1258 - val_mse: 0.0012\n",
      "Epoch 13/20\n",
      "56/56 [==============================] - 25s 454ms/step - loss: 0.1375 - mse: 0.0011 - val_loss: 0.0610 - val_mse: 6.1288e-04\n",
      "Epoch 14/20\n",
      "56/56 [==============================] - 25s 454ms/step - loss: 0.1673 - mse: 0.0013 - val_loss: 0.7582 - val_mse: 0.0058\n",
      "Epoch 15/20\n",
      "56/56 [==============================] - 25s 454ms/step - loss: 0.2295 - mse: 0.0018 - val_loss: 0.1875 - val_mse: 0.0014\n",
      "Epoch 16/20\n",
      "56/56 [==============================] - 25s 454ms/step - loss: 0.1500 - mse: 0.0011 - val_loss: 0.0905 - val_mse: 6.0735e-04\n",
      "Epoch 17/20\n",
      "56/56 [==============================] - 25s 454ms/step - loss: 0.0792 - mse: 7.1620e-04 - val_loss: 0.0822 - val_mse: 3.6338e-04\n",
      "Epoch 18/20\n",
      "56/56 [==============================] - 25s 454ms/step - loss: 0.0478 - mse: 4.0104e-04 - val_loss: 0.0219 - val_mse: 2.3074e-04\n",
      "Epoch 19/20\n",
      "56/56 [==============================] - 25s 454ms/step - loss: 0.0360 - mse: 3.1439e-04 - val_loss: 0.0869 - val_mse: 4.1663e-04\n",
      "Epoch 20/20\n",
      "56/56 [==============================] - 25s 454ms/step - loss: 0.0368 - mse: 3.3634e-04 - val_loss: 0.0584 - val_mse: 4.4718e-04\n"
     ]
    },
    {
     "data": {
      "text/plain": [
       "<keras.callbacks.History at 0x146dfc11bd60>"
      ]
     },
     "execution_count": 69,
     "metadata": {},
     "output_type": "execute_result"
    }
   ],
   "source": [
    "model1.compile(optimizer=\"Adam\", loss=\"CategoricalCrossentropy\", metrics=[\"mse\"])\n",
    "model1.fit(\n",
    "    trainX,trainY,\n",
    "    validation_data = (validX, validY),\n",
    "    verbose=1,\n",
    "    epochs=20)"
   ]
  },
  {
   "cell_type": "code",
   "execution_count": 70,
   "id": "c153afc4-81cf-487f-9f8b-4ba0ba0f1508",
   "metadata": {},
   "outputs": [
    {
     "name": "stdout",
     "output_type": "stream",
     "text": [
      "14/14 [==============================] - 2s 114ms/step - loss: 0.1910 - mse: 0.0013\n"
     ]
    },
    {
     "data": {
      "text/plain": [
       "[0.1909763514995575, 0.00128388951998204]"
      ]
     },
     "execution_count": 70,
     "metadata": {},
     "output_type": "execute_result"
    }
   ],
   "source": [
    "model1.evaluate(\n",
    "    x=testX,\n",
    "    y=testY,\n",
    "    batch_size=None,\n",
    "    verbose=1\n",
    ")"
   ]
  },
  {
   "cell_type": "code",
   "execution_count": 71,
   "id": "cfc81cca-8aaa-478b-9116-50766b8b4cb8",
   "metadata": {},
   "outputs": [
    {
     "name": "stdout",
     "output_type": "stream",
     "text": [
      "14/14 [==============================] - 2s 112ms/step\n"
     ]
    }
   ],
   "source": [
    "predictions = model1.predict(x=testX)"
   ]
  },
  {
   "cell_type": "code",
   "execution_count": 74,
   "id": "ff03cf36-f42c-482e-887f-e0e7d18bb63d",
   "metadata": {},
   "outputs": [
    {
     "name": "stdout",
     "output_type": "stream",
     "text": [
      "accuracy is:  95.3125 %\n"
     ]
    }
   ],
   "source": [
    "count = 0\n",
    "true = 0\n",
    "for i in range(len(predictions)):\n",
    "    if(np.argmax(predictions[i]) == np.argmax(testY[i])):\n",
    "        true+=1\n",
    "        #print(np.argmax(predictions[i]))\n",
    "    count +=1\n",
    "print(\"accuracy is: \",true / count * 100, \"%\")\n"
   ]
  },
  {
   "cell_type": "code",
   "execution_count": 112,
   "id": "6cb83750-50c4-464f-aa93-3faf53cbe843",
   "metadata": {},
   "outputs": [
    {
     "name": "stdout",
     "output_type": "stream",
     "text": [
      "70/70 [==============================] - 8s 111ms/step\n"
     ]
    }
   ],
   "source": [
    "CNNresults = model1.predict(x=videos)\n"
   ]
  },
  {
   "cell_type": "code",
   "execution_count": 115,
   "id": "a4699d1f-3f3b-4837-88b3-89c7cef78eb2",
   "metadata": {},
   "outputs": [],
   "source": [
    "newTrain = []\n",
    "for i in range(len(CNNresults)):\n",
    "    newTrain.append(np.argmax(CNNresults[i]))\n"
   ]
  },
  {
   "cell_type": "code",
   "execution_count": 116,
   "id": "7379dc48-6683-49c9-ae6e-605dbd56f882",
   "metadata": {},
   "outputs": [
    {
     "name": "stdout",
     "output_type": "stream",
     "text": [
      "0 20 40 60 80 100 120 140 160 180 200 220 240 260 280 300 320 340 360 380 400 420 440 460 480 500 520 540 560 580 600 620 640 660 680 700 720 740 760 780 800 820 840 860 880 900 920 940 960 980 1000 1020 1040 1060 1080 1100 1120 1140 1160 1180 1200 1220 1240 1260 1280 1300 1320 1340 1360 1380 1400 1420 1440 1460 1480 1500 1520 1540 1560 1580 1600 1620 1640 1660 1680 1700 1720 1740 1760 1780 1800 1820 1840 1860 1880 1900 1920 1940 1960 1980 2000 2020 2040 2060 2080 2100 2120 2140 2160 2180 2200 2220 "
     ]
    },
    {
     "data": {
      "text/plain": [
       "20"
      ]
     },
     "execution_count": 116,
     "metadata": {},
     "output_type": "execute_result"
    }
   ],
   "source": [
    "features = []\n",
    "count = 0\n",
    "for i in range(0,len(newTrain), 20):\n",
    "    print( i , end = \" \")\n",
    "    count += 1\n",
    "    features.append(newTrain[i:i+20])\n"
   ]
  },
  {
   "cell_type": "code",
   "execution_count": 117,
   "id": "0eadfda2-2f79-4cc3-8b4a-973f20d1a7a9",
   "metadata": {},
   "outputs": [],
   "source": [
    "features = np.array(features)"
   ]
  },
  {
   "cell_type": "code",
   "execution_count": 186,
   "id": "3453d418-e85f-4f40-9a26-ff99cc00c36e",
   "metadata": {},
   "outputs": [
    {
     "data": {
      "text/plain": [
       "array([[37, 37, 37, 37, 37, 37, 37, 37, 37, 37, 37, 37, 37, 37, 37, 37,\n",
       "        37, 37, 37, 37],\n",
       "       [41, 41, 41, 41, 41, 41, 41, 41, 41, 41, 41, 41, 41, 41, 41, 41,\n",
       "        41, 41, 41, 41],\n",
       "       [43, 43, 43, 43, 43, 43, 43, 43, 43, 43, 43, 43, 43, 43, 43, 43,\n",
       "        43, 43, 43, 43],\n",
       "       [46, 46, 46, 46, 46, 46, 46, 46, 46, 46, 46, 46, 46, 46, 46, 36,\n",
       "        46, 46, 46, 46],\n",
       "       [47, 47, 47, 47, 47, 47, 47, 47, 47, 47, 47, 47, 47, 47, 47, 47,\n",
       "        47, 47, 47, 47],\n",
       "       [49, 49, 23, 23, 23, 23, 23, 23, 23, 23, 23, 23, 23, 23, 23, 23,\n",
       "        23, 23, 23, 23],\n",
       "       [35, 35, 35, 35, 35, 35, 35, 35, 35, 35, 35, 35, 35, 35, 35, 35,\n",
       "        35, 35, 35, 35],\n",
       "       [19, 17, 19, 19, 19, 19, 19, 19, 19, 19, 19, 19, 19, 19, 19, 19,\n",
       "        19, 19, 19, 19],\n",
       "       [51, 51, 51, 51, 51, 51, 51, 51, 51, 51, 51, 51, 51, 51, 51, 51,\n",
       "        51, 51, 51, 51],\n",
       "       [ 7,  7,  7,  7,  7,  7,  7,  7,  7,  7,  7,  7,  7,  7,  7,  7,\n",
       "         7,  7,  7,  7],\n",
       "       [ 0,  0,  0,  0,  0,  0,  0,  0,  0,  0,  0,  0,  0,  0,  0,  0,\n",
       "         0,  0,  0,  0],\n",
       "       [42, 42, 42, 42, 42, 42, 42, 42, 42, 42, 42, 42, 42, 42, 42, 42,\n",
       "        42, 42, 42, 42],\n",
       "       [ 2,  2,  2,  2,  2,  2,  2,  2,  2,  2,  2,  2,  2,  2,  2,  2,\n",
       "         2,  2,  2,  2],\n",
       "       [25, 25, 25, 25, 25, 25, 25, 25, 25, 25, 25, 25, 25, 25, 25, 25,\n",
       "        25, 25, 25, 25],\n",
       "       [ 4,  4,  4,  4,  4,  4,  4,  4,  4,  4,  4,  4,  4,  4,  4,  4,\n",
       "         4,  4,  4,  4],\n",
       "       [ 1,  1,  1,  1,  1,  1,  1,  1,  1,  1,  1,  1,  1,  1,  1,  1,\n",
       "         1,  1,  1,  1],\n",
       "       [13, 13, 13, 13, 13, 13, 13, 13, 13, 46, 13, 13, 13, 13, 13, 13,\n",
       "        13, 13, 13, 13],\n",
       "       [44, 44, 44, 44, 44, 44, 44, 44, 44, 44, 44, 44, 52, 44, 44, 44,\n",
       "        44, 44, 44, 44],\n",
       "       [49, 49, 49, 49, 49, 49, 49, 49, 49, 49, 49, 49, 49, 49, 49, 49,\n",
       "        49, 49, 49, 49],\n",
       "       [18, 18, 18, 18, 18, 18, 18, 18, 18, 18, 18, 18, 18, 18, 18, 18,\n",
       "        18, 18, 18, 18],\n",
       "       [50, 50, 50, 50, 50, 50, 50, 50, 50, 50, 50, 50, 41, 41, 41, 50,\n",
       "        50, 50, 50, 50],\n",
       "       [29, 29, 29, 29, 29, 29, 29, 29, 29, 29, 29, 29, 29, 29, 29, 29,\n",
       "        29, 29, 29, 29],\n",
       "       [27, 27, 27, 27, 27, 27, 27, 27, 27, 27, 27, 27, 27, 27, 27, 27,\n",
       "        27, 27, 27, 27],\n",
       "       [28, 28, 28, 28, 28, 28, 28, 28, 28, 28, 28, 28, 28, 28, 28, 28,\n",
       "        28, 28, 28, 28],\n",
       "       [30, 30, 30, 30, 30, 30, 30, 30, 30, 30, 30, 30, 30, 30, 30, 30,\n",
       "        30, 30, 30, 30],\n",
       "       [48, 48, 48, 48, 48, 48, 48, 48, 48, 48, 48, 48, 48, 48, 48, 48,\n",
       "        48, 48, 48, 48],\n",
       "       [33, 33, 33, 33, 33, 33, 33, 33, 33, 33, 33, 33, 33, 33, 33, 33,\n",
       "        33, 33, 33, 33],\n",
       "       [11, 11, 11, 11, 11, 11, 11, 11, 11, 11, 11, 11, 11, 11, 11, 11,\n",
       "        11, 11, 11, 11]])"
      ]
     },
     "execution_count": 186,
     "metadata": {},
     "output_type": "execute_result"
    }
   ],
   "source": [
    "xTest"
   ]
  },
  {
   "cell_type": "code",
   "execution_count": 173,
   "id": "708eb529-a487-46b6-bca4-36130b2d0888",
   "metadata": {},
   "outputs": [],
   "source": [
    "xTrain, xValid, yTrain, yValid = train_test_split(features,labels, test_size=0.25, train_size=None, random_state=None, shuffle=True, stratify=None)"
   ]
  },
  {
   "cell_type": "code",
   "execution_count": 174,
   "id": "42ea4b1a-9eb8-400a-b0ec-6d77b6bab040",
   "metadata": {},
   "outputs": [],
   "source": [
    "xTrain, xTest, yTrain, yTest = train_test_split(features,labels, test_size=0.25, train_size=None, random_state=None, shuffle=True, stratify=None)"
   ]
  },
  {
   "cell_type": "code",
   "execution_count": 175,
   "id": "066060c1-48bf-4991-8484-288a1401316c",
   "metadata": {},
   "outputs": [
    {
     "name": "stdout",
     "output_type": "stream",
     "text": [
      "(84, 20)\n",
      "(28, 20)\n",
      "(28, 20)\n",
      "(84, 54)\n",
      "(28, 54)\n",
      "(28, 54)\n"
     ]
    }
   ],
   "source": [
    "print(xTrain.shape)\n",
    "print(xTest.shape)\n",
    "print(xValid.shape)\n",
    "print(yTrain.shape)\n",
    "print(yTest.shape)\n",
    "print(yValid.shape)"
   ]
  },
  {
   "cell_type": "code",
   "execution_count": 213,
   "id": "5278573f-16fa-4af4-80a4-b3c4822ddea0",
   "metadata": {},
   "outputs": [
    {
     "name": "stdout",
     "output_type": "stream",
     "text": [
      "Model: \"model_7\"\n",
      "_________________________________________________________________\n",
      " Layer (type)                Output Shape              Param #   \n",
      "=================================================================\n",
      " input_17 (InputLayer)       [(None, 20)]              0         \n",
      "                                                                 \n",
      " embedding_11 (Embedding)    (None, 20, 60)            1200      \n",
      "                                                                 \n",
      " bidirectional_34 (Bidirecti  (None, 20, 512)          649216    \n",
      " onal)                                                           \n",
      "                                                                 \n",
      " bidirectional_35 (Bidirecti  (None, 20, 256)          656384    \n",
      " onal)                                                           \n",
      "                                                                 \n",
      " bidirectional_36 (Bidirecti  (None, 20, 128)          164352    \n",
      " onal)                                                           \n",
      "                                                                 \n",
      " bidirectional_37 (Bidirecti  (None, 20, 64)           41216     \n",
      " onal)                                                           \n",
      "                                                                 \n",
      " global_max_pooling1d_8 (Glo  (None, 64)               0         \n",
      " balMaxPooling1D)                                                \n",
      "                                                                 \n",
      " dropout_8 (Dropout)         (None, 64)                0         \n",
      "                                                                 \n",
      " dense_28 (Dense)            (None, 54)                3510      \n",
      "                                                                 \n",
      "=================================================================\n",
      "Total params: 1,515,878\n",
      "Trainable params: 1,515,878\n",
      "Non-trainable params: 0\n",
      "_________________________________________________________________\n",
      "None\n"
     ]
    }
   ],
   "source": [
    "embed_dim = 60  # Embedding size for each token\n",
    "num_heads = 2  # Number of attention heads\n",
    "ff_dim = 32  # Hidden layer size in feed forward network inside transformer\n",
    "maxlen = 20\n",
    "inp = Input(shape=(maxlen,))\n",
    "x = Embedding(20, embed_dim)(inp)\n",
    "x = Bidirectional(LSTM(256, return_sequences=True))(x)\n",
    "x = Bidirectional(LSTM(128, return_sequences=True))(x)\n",
    "x = Bidirectional(LSTM(64, return_sequences=True))(x)\n",
    "x = Bidirectional(LSTM(32, return_sequences=True))(x)\n",
    "x = GlobalMaxPool1D()(x)\n",
    "x = Dropout(0.3)(x)\n",
    "x = Dense(labels.shape[1], activation=\"sigmoid\")(x)\n",
    "lstm = Model(inputs=inp, outputs=x)\n",
    "opt = optimizers.Adam(learning_rate=0.001)\n",
    "lstm.compile(loss='CategoricalCrossentropy', optimizer=opt, metrics=['accuracy'])\n",
    "\n",
    "print(lstm.summary())"
   ]
  },
  {
   "cell_type": "code",
   "execution_count": 214,
   "id": "c038baed-e6f2-4dcd-8303-2b497bb23b87",
   "metadata": {},
   "outputs": [
    {
     "name": "stdout",
     "output_type": "stream",
     "text": [
      "Epoch 1/80\n",
      "2/2 [==============================] - 10s 2s/step - loss: 3.9873 - accuracy: 0.0476 - val_loss: 3.9743 - val_accuracy: 0.1786\n",
      "Epoch 2/80\n",
      "2/2 [==============================] - 0s 40ms/step - loss: 3.9728 - accuracy: 0.1429 - val_loss: 3.9553 - val_accuracy: 0.2500\n",
      "Epoch 3/80\n",
      "2/2 [==============================] - 0s 40ms/step - loss: 3.9482 - accuracy: 0.2738 - val_loss: 3.9255 - val_accuracy: 0.1786\n",
      "Epoch 4/80\n",
      "2/2 [==============================] - 0s 39ms/step - loss: 3.9190 - accuracy: 0.2500 - val_loss: 3.8774 - val_accuracy: 0.1786\n",
      "Epoch 5/80\n",
      "2/2 [==============================] - 0s 47ms/step - loss: 3.8540 - accuracy: 0.2262 - val_loss: 3.8095 - val_accuracy: 0.1429\n",
      "Epoch 6/80\n",
      "2/2 [==============================] - 0s 43ms/step - loss: 3.7807 - accuracy: 0.2024 - val_loss: 3.7374 - val_accuracy: 0.1786\n",
      "Epoch 7/80\n",
      "2/2 [==============================] - 0s 40ms/step - loss: 3.6932 - accuracy: 0.2024 - val_loss: 3.6710 - val_accuracy: 0.1429\n",
      "Epoch 8/80\n",
      "2/2 [==============================] - 0s 38ms/step - loss: 3.6075 - accuracy: 0.2143 - val_loss: 3.5963 - val_accuracy: 0.2500\n",
      "Epoch 9/80\n",
      "2/2 [==============================] - 0s 39ms/step - loss: 3.5167 - accuracy: 0.2857 - val_loss: 3.5290 - val_accuracy: 0.2500\n",
      "Epoch 10/80\n",
      "2/2 [==============================] - 0s 41ms/step - loss: 3.4278 - accuracy: 0.2976 - val_loss: 3.4810 - val_accuracy: 0.2500\n",
      "Epoch 11/80\n",
      "2/2 [==============================] - 0s 40ms/step - loss: 3.3586 - accuracy: 0.2738 - val_loss: 3.4292 - val_accuracy: 0.2500\n",
      "Epoch 12/80\n",
      "2/2 [==============================] - 0s 40ms/step - loss: 3.3130 - accuracy: 0.2976 - val_loss: 3.3719 - val_accuracy: 0.3214\n",
      "Epoch 13/80\n",
      "2/2 [==============================] - 0s 39ms/step - loss: 3.2437 - accuracy: 0.3333 - val_loss: 3.3063 - val_accuracy: 0.3214\n",
      "Epoch 14/80\n",
      "2/2 [==============================] - 0s 40ms/step - loss: 3.1693 - accuracy: 0.3452 - val_loss: 3.2690 - val_accuracy: 0.2857\n",
      "Epoch 15/80\n",
      "2/2 [==============================] - 0s 40ms/step - loss: 3.1050 - accuracy: 0.3214 - val_loss: 3.1943 - val_accuracy: 0.3214\n",
      "Epoch 16/80\n",
      "2/2 [==============================] - 0s 40ms/step - loss: 3.0802 - accuracy: 0.3095 - val_loss: 3.1586 - val_accuracy: 0.3214\n",
      "Epoch 17/80\n",
      "2/2 [==============================] - 0s 40ms/step - loss: 2.9886 - accuracy: 0.3690 - val_loss: 3.0857 - val_accuracy: 0.3214\n",
      "Epoch 18/80\n",
      "2/2 [==============================] - 0s 39ms/step - loss: 2.9615 - accuracy: 0.3690 - val_loss: 3.0479 - val_accuracy: 0.3214\n",
      "Epoch 19/80\n",
      "2/2 [==============================] - 0s 40ms/step - loss: 2.8689 - accuracy: 0.3452 - val_loss: 3.0201 - val_accuracy: 0.2500\n",
      "Epoch 20/80\n",
      "2/2 [==============================] - 0s 39ms/step - loss: 2.8223 - accuracy: 0.3690 - val_loss: 2.9991 - val_accuracy: 0.2857\n",
      "Epoch 21/80\n",
      "2/2 [==============================] - 0s 39ms/step - loss: 2.7616 - accuracy: 0.3214 - val_loss: 2.9678 - val_accuracy: 0.2857\n",
      "Epoch 22/80\n",
      "2/2 [==============================] - 0s 39ms/step - loss: 2.7295 - accuracy: 0.3810 - val_loss: 2.9556 - val_accuracy: 0.2857\n",
      "Epoch 23/80\n",
      "2/2 [==============================] - 0s 39ms/step - loss: 2.7226 - accuracy: 0.3929 - val_loss: 2.9165 - val_accuracy: 0.2857\n",
      "Epoch 24/80\n",
      "2/2 [==============================] - 0s 41ms/step - loss: 2.6428 - accuracy: 0.4167 - val_loss: 2.8816 - val_accuracy: 0.2857\n",
      "Epoch 25/80\n",
      "2/2 [==============================] - 0s 40ms/step - loss: 2.6315 - accuracy: 0.4167 - val_loss: 2.8465 - val_accuracy: 0.2857\n",
      "Epoch 26/80\n",
      "2/2 [==============================] - 0s 39ms/step - loss: 2.6157 - accuracy: 0.4167 - val_loss: 2.8284 - val_accuracy: 0.2857\n",
      "Epoch 27/80\n",
      "2/2 [==============================] - 0s 38ms/step - loss: 2.5639 - accuracy: 0.4167 - val_loss: 2.8002 - val_accuracy: 0.2857\n",
      "Epoch 28/80\n",
      "2/2 [==============================] - 0s 38ms/step - loss: 2.5662 - accuracy: 0.3690 - val_loss: 2.7781 - val_accuracy: 0.2857\n",
      "Epoch 29/80\n",
      "2/2 [==============================] - 0s 39ms/step - loss: 2.4653 - accuracy: 0.4524 - val_loss: 2.7595 - val_accuracy: 0.2857\n",
      "Epoch 30/80\n",
      "2/2 [==============================] - 0s 40ms/step - loss: 2.4571 - accuracy: 0.4405 - val_loss: 2.7408 - val_accuracy: 0.2857\n",
      "Epoch 31/80\n",
      "2/2 [==============================] - 0s 40ms/step - loss: 2.4111 - accuracy: 0.4405 - val_loss: 2.7308 - val_accuracy: 0.3571\n",
      "Epoch 32/80\n",
      "2/2 [==============================] - 0s 40ms/step - loss: 2.4011 - accuracy: 0.4286 - val_loss: 2.6938 - val_accuracy: 0.3571\n",
      "Epoch 33/80\n",
      "2/2 [==============================] - 0s 38ms/step - loss: 2.3751 - accuracy: 0.4524 - val_loss: 2.6860 - val_accuracy: 0.3571\n",
      "Epoch 34/80\n",
      "2/2 [==============================] - 0s 39ms/step - loss: 2.3165 - accuracy: 0.4524 - val_loss: 2.6986 - val_accuracy: 0.3571\n",
      "Epoch 35/80\n",
      "2/2 [==============================] - 0s 39ms/step - loss: 2.3731 - accuracy: 0.4167 - val_loss: 2.6551 - val_accuracy: 0.3571\n",
      "Epoch 36/80\n",
      "2/2 [==============================] - 0s 41ms/step - loss: 2.2897 - accuracy: 0.4524 - val_loss: 2.6488 - val_accuracy: 0.3571\n",
      "Epoch 37/80\n",
      "2/2 [==============================] - 0s 42ms/step - loss: 2.2852 - accuracy: 0.4048 - val_loss: 2.6471 - val_accuracy: 0.3571\n",
      "Epoch 38/80\n",
      "2/2 [==============================] - 0s 40ms/step - loss: 2.2840 - accuracy: 0.4524 - val_loss: 2.6487 - val_accuracy: 0.3571\n",
      "Epoch 39/80\n",
      "2/2 [==============================] - 0s 39ms/step - loss: 2.1892 - accuracy: 0.4762 - val_loss: 2.6141 - val_accuracy: 0.3571\n",
      "Epoch 40/80\n",
      "2/2 [==============================] - 0s 40ms/step - loss: 2.2012 - accuracy: 0.4762 - val_loss: 2.6007 - val_accuracy: 0.3571\n",
      "Epoch 41/80\n",
      "2/2 [==============================] - 0s 40ms/step - loss: 2.2188 - accuracy: 0.4524 - val_loss: 2.5960 - val_accuracy: 0.3571\n",
      "Epoch 42/80\n",
      "2/2 [==============================] - 0s 40ms/step - loss: 2.2119 - accuracy: 0.4524 - val_loss: 2.6038 - val_accuracy: 0.3571\n",
      "Epoch 43/80\n",
      "2/2 [==============================] - 0s 40ms/step - loss: 2.2193 - accuracy: 0.4524 - val_loss: 2.5676 - val_accuracy: 0.3571\n",
      "Epoch 44/80\n",
      "2/2 [==============================] - 0s 39ms/step - loss: 2.1898 - accuracy: 0.4405 - val_loss: 2.5550 - val_accuracy: 0.3571\n",
      "Epoch 45/80\n",
      "2/2 [==============================] - 0s 40ms/step - loss: 2.1788 - accuracy: 0.4524 - val_loss: 2.6441 - val_accuracy: 0.3571\n",
      "Epoch 46/80\n",
      "2/2 [==============================] - 0s 39ms/step - loss: 2.1289 - accuracy: 0.4405 - val_loss: 2.5310 - val_accuracy: 0.3571\n",
      "Epoch 47/80\n",
      "2/2 [==============================] - 0s 40ms/step - loss: 2.1710 - accuracy: 0.4524 - val_loss: 2.5194 - val_accuracy: 0.3571\n",
      "Epoch 48/80\n",
      "2/2 [==============================] - 0s 40ms/step - loss: 2.1354 - accuracy: 0.4524 - val_loss: 2.5107 - val_accuracy: 0.3571\n",
      "Epoch 49/80\n",
      "2/2 [==============================] - 0s 40ms/step - loss: 2.1118 - accuracy: 0.4762 - val_loss: 2.4850 - val_accuracy: 0.3571\n",
      "Epoch 50/80\n",
      "2/2 [==============================] - 0s 38ms/step - loss: 2.1378 - accuracy: 0.4762 - val_loss: 2.4950 - val_accuracy: 0.3571\n",
      "Epoch 51/80\n",
      "2/2 [==============================] - 0s 39ms/step - loss: 2.1286 - accuracy: 0.4643 - val_loss: 2.4945 - val_accuracy: 0.3571\n",
      "Epoch 52/80\n",
      "2/2 [==============================] - 0s 39ms/step - loss: 2.1745 - accuracy: 0.4286 - val_loss: 2.4925 - val_accuracy: 0.3571\n",
      "Epoch 53/80\n",
      "2/2 [==============================] - 0s 41ms/step - loss: 2.1752 - accuracy: 0.4643 - val_loss: 2.4925 - val_accuracy: 0.3571\n",
      "Epoch 54/80\n",
      "2/2 [==============================] - 0s 40ms/step - loss: 2.1059 - accuracy: 0.5000 - val_loss: 2.4897 - val_accuracy: 0.3571\n",
      "Epoch 55/80\n",
      "2/2 [==============================] - 0s 38ms/step - loss: 2.1573 - accuracy: 0.4643 - val_loss: 2.4897 - val_accuracy: 0.3571\n",
      "Epoch 56/80\n",
      "2/2 [==============================] - 0s 39ms/step - loss: 2.1512 - accuracy: 0.4405 - val_loss: 2.4857 - val_accuracy: 0.3571\n",
      "Epoch 57/80\n",
      "2/2 [==============================] - 0s 39ms/step - loss: 2.1302 - accuracy: 0.4881 - val_loss: 2.4840 - val_accuracy: 0.3571\n",
      "Epoch 58/80\n",
      "2/2 [==============================] - 0s 40ms/step - loss: 2.0739 - accuracy: 0.4524 - val_loss: 2.4893 - val_accuracy: 0.3571\n",
      "Epoch 59/80\n",
      "2/2 [==============================] - 0s 39ms/step - loss: 2.0523 - accuracy: 0.5000 - val_loss: 2.5008 - val_accuracy: 0.3571\n",
      "Epoch 60/80\n",
      "2/2 [==============================] - 0s 39ms/step - loss: 2.0920 - accuracy: 0.4762 - val_loss: 2.6592 - val_accuracy: 0.2500\n",
      "Epoch 61/80\n",
      "2/2 [==============================] - 0s 39ms/step - loss: 2.1671 - accuracy: 0.4405 - val_loss: 2.5912 - val_accuracy: 0.3571\n",
      "Epoch 62/80\n",
      "2/2 [==============================] - 0s 41ms/step - loss: 2.1187 - accuracy: 0.4643 - val_loss: 2.5941 - val_accuracy: 0.2857\n",
      "Epoch 63/80\n",
      "2/2 [==============================] - 0s 40ms/step - loss: 2.1515 - accuracy: 0.4524 - val_loss: 2.6046 - val_accuracy: 0.2857\n",
      "Epoch 64/80\n",
      "2/2 [==============================] - 0s 40ms/step - loss: 2.1921 - accuracy: 0.4286 - val_loss: 2.5354 - val_accuracy: 0.3571\n",
      "Epoch 65/80\n",
      "2/2 [==============================] - 0s 40ms/step - loss: 2.1043 - accuracy: 0.4762 - val_loss: 2.5333 - val_accuracy: 0.3214\n",
      "Epoch 66/80\n",
      "2/2 [==============================] - 0s 40ms/step - loss: 2.1144 - accuracy: 0.4524 - val_loss: 2.5177 - val_accuracy: 0.3214\n",
      "Epoch 67/80\n",
      "2/2 [==============================] - 0s 40ms/step - loss: 2.0955 - accuracy: 0.4405 - val_loss: 2.8610 - val_accuracy: 0.3214\n",
      "Epoch 68/80\n",
      "2/2 [==============================] - 0s 40ms/step - loss: 2.2121 - accuracy: 0.4405 - val_loss: 2.5006 - val_accuracy: 0.3571\n",
      "Epoch 69/80\n",
      "2/2 [==============================] - 0s 40ms/step - loss: 2.1099 - accuracy: 0.4524 - val_loss: 2.4837 - val_accuracy: 0.3571\n",
      "Epoch 70/80\n",
      "2/2 [==============================] - 0s 41ms/step - loss: 2.1515 - accuracy: 0.4405 - val_loss: 2.4707 - val_accuracy: 0.3571\n",
      "Epoch 71/80\n",
      "2/2 [==============================] - 0s 39ms/step - loss: 2.2426 - accuracy: 0.4286 - val_loss: 2.4647 - val_accuracy: 0.3571\n",
      "Epoch 72/80\n",
      "2/2 [==============================] - 0s 39ms/step - loss: 2.2097 - accuracy: 0.4286 - val_loss: 2.5613 - val_accuracy: 0.3571\n",
      "Epoch 73/80\n",
      "2/2 [==============================] - 0s 36ms/step - loss: 2.2473 - accuracy: 0.4286 - val_loss: 2.5744 - val_accuracy: 0.3571\n",
      "Epoch 74/80\n",
      "2/2 [==============================] - 0s 34ms/step - loss: 2.1239 - accuracy: 0.4405 - val_loss: 2.6315 - val_accuracy: 0.2857\n",
      "Epoch 75/80\n",
      "2/2 [==============================] - 0s 37ms/step - loss: 2.1653 - accuracy: 0.4048 - val_loss: 2.4848 - val_accuracy: 0.3571\n",
      "Epoch 76/80\n",
      "2/2 [==============================] - 0s 39ms/step - loss: 2.1526 - accuracy: 0.4524 - val_loss: 2.4741 - val_accuracy: 0.3571\n",
      "Epoch 77/80\n",
      "2/2 [==============================] - 0s 38ms/step - loss: 2.1134 - accuracy: 0.4643 - val_loss: 2.4638 - val_accuracy: 0.3571\n",
      "Epoch 78/80\n",
      "2/2 [==============================] - 0s 39ms/step - loss: 2.1132 - accuracy: 0.4643 - val_loss: 2.4512 - val_accuracy: 0.3571\n",
      "Epoch 79/80\n",
      "2/2 [==============================] - 0s 40ms/step - loss: 2.0812 - accuracy: 0.4881 - val_loss: 2.4441 - val_accuracy: 0.3571\n",
      "Epoch 80/80\n",
      "2/2 [==============================] - 0s 39ms/step - loss: 2.0906 - accuracy: 0.4643 - val_loss: 2.4352 - val_accuracy: 0.3571\n"
     ]
    },
    {
     "data": {
      "text/plain": [
       "<keras.callbacks.History at 0x146bd804b850>"
      ]
     },
     "execution_count": 214,
     "metadata": {},
     "output_type": "execute_result"
    }
   ],
   "source": [
    "lstm.fit(xTrain, yTrain, batch_size=50, epochs=80, validation_data=(xValid, yValid))"
   ]
  },
  {
   "cell_type": "code",
   "execution_count": 215,
   "id": "19ab5a13-d347-49b7-aa46-b86a9febb593",
   "metadata": {},
   "outputs": [
    {
     "name": "stdout",
     "output_type": "stream",
     "text": [
      "1/1 [==============================] - 2s 2s/step\n"
     ]
    }
   ],
   "source": [
    "pred = (lstm.predict(xTest))\n"
   ]
  },
  {
   "cell_type": "code",
   "execution_count": 218,
   "id": "51527fdf-e4b6-4313-9084-53c57e492bd6",
   "metadata": {},
   "outputs": [
    {
     "name": "stdout",
     "output_type": "stream",
     "text": [
      "accuracy :  32.142857142857146 %\n"
     ]
    }
   ],
   "source": [
    "true = 0\n",
    "count = 0\n",
    "for i in range(len(pred)):\n",
    "    #print(np.argmax(yTest[i]), end = \" \")\n",
    "    #print(np.argmax(pred[i]))\n",
    "    if(np.argmax(pred[i]) == np.argmax(yTest[i])):\n",
    "        true+=1\n",
    "    count+=1\n",
    "print(\"accuracy : \", true/count*100, \"%\")"
   ]
  },
  {
   "cell_type": "markdown",
   "id": "fe945c66-1a51-481d-90b2-43b469631063",
   "metadata": {},
   "source": [
    "# Building our main model\n",
    " - This model uses TimeDistributed layer which lets us pass a sequence of frames for one data point"
   ]
  },
  {
   "cell_type": "code",
   "execution_count": 19,
   "id": "133d782d-f968-440e-971c-36aba7649c3c",
   "metadata": {},
   "outputs": [],
   "source": [
    "def action_model(shape=(30, 480, 480, 1), nbout=labels.shape[1]):\n",
    "    # Create our convnet with (224, 224, 1) input shape\n",
    "    convnet = build_convnet(shape[1:])\n",
    "    \n",
    "    # then create our final model\n",
    "    model = keras.Sequential()\n",
    "    # add the convnet with (5, 112, 112, 3) shape\n",
    "    model.add(TimeDistributed(convnet, input_shape=shape))\n",
    "    # here, you can also use GRU or LSTM\n",
    "    model.add(GRU(64))\n",
    "    # and finally, we make a decision network\n",
    "    model.add(Dense(1024, activation='relu'))\n",
    "    model.add(Dropout(.5))\n",
    "    model.add(Dense(512, activation='relu'))\n",
    "    model.add(Dropout(.5))\n",
    "    model.add(Dense(128, activation='relu'))\n",
    "    model.add(Dropout(.5))\n",
    "    model.add(Dense(64, activation='relu'))\n",
    "    model.add(Dense(nbout, activation='softmax'))\n",
    "    return model"
   ]
  },
  {
   "cell_type": "code",
   "execution_count": 20,
   "id": "1bc18e27-9d93-49e3-868d-72c1910a8c88",
   "metadata": {},
   "outputs": [
    {
     "name": "stdout",
     "output_type": "stream",
     "text": [
      "Model: \"sequential_2\"\n",
      "_________________________________________________________________\n",
      " Layer (type)                Output Shape              Param #   \n",
      "=================================================================\n",
      " time_distributed (TimeDistr  (None, 7, 512)           4688064   \n",
      " ibuted)                                                         \n",
      "                                                                 \n",
      " gru (GRU)                   (None, 64)                110976    \n",
      "                                                                 \n",
      " dense (Dense)               (None, 1024)              66560     \n",
      "                                                                 \n",
      " dropout (Dropout)           (None, 1024)              0         \n",
      "                                                                 \n",
      " dense_1 (Dense)             (None, 512)               524800    \n",
      "                                                                 \n",
      " dropout_1 (Dropout)         (None, 512)               0         \n",
      "                                                                 \n",
      " dense_2 (Dense)             (None, 128)               65664     \n",
      "                                                                 \n",
      " dropout_2 (Dropout)         (None, 128)               0         \n",
      "                                                                 \n",
      " dense_3 (Dense)             (None, 64)                8256      \n",
      "                                                                 \n",
      " dense_4 (Dense)             (None, 9)                 585       \n",
      "                                                                 \n",
      "=================================================================\n",
      "Total params: 5,464,905\n",
      "Trainable params: 5,462,985\n",
      "Non-trainable params: 1,920\n",
      "_________________________________________________________________\n"
     ]
    }
   ],
   "source": [
    "INSHAPE=(7,) + SIZE + (CHANNELS,) # (5, 112, 112, 3)\n",
    "model = action_model(INSHAPE, labels.shape[1])\n",
    "optimizer = keras.optimizers.Adam(0.001)\n",
    "model.compile(\n",
    "    optimizer,\n",
    "    'categorical_crossentropy',\n",
    "    metrics=['acc']\n",
    ")\n",
    "model.summary()"
   ]
  },
  {
   "cell_type": "code",
   "execution_count": 26,
   "id": "1e50e02d-1269-42f4-995c-cf0061877f1d",
   "metadata": {},
   "outputs": [],
   "source": [
    "callbacks = [\n",
    "    keras.callbacks.ReduceLROnPlateau(verbose=1),\n",
    "    keras.callbacks.ModelCheckpoint(\n",
    "        'chkp/weights.{epoch:02d}-{val_loss:.2f}.hdf5',\n",
    "        verbose=1),\n",
    "]"
   ]
  },
  {
   "cell_type": "code",
   "execution_count": 27,
   "id": "b7e2ce15-d5e2-432e-b9c3-3f6b057e1f20",
   "metadata": {},
   "outputs": [],
   "source": [
    "valid = (validX, validY)"
   ]
  },
  {
   "cell_type": "code",
   "execution_count": 28,
   "id": "73408328-22b3-42ff-b11e-b8c230b04619",
   "metadata": {},
   "outputs": [],
   "source": [
    "train = (trainX, trainY)"
   ]
  },
  {
   "cell_type": "code",
   "execution_count": 73,
   "id": "7d33b7c0-92af-4ff1-8fc2-884e90036e09",
   "metadata": {},
   "outputs": [
    {
     "ename": "NameError",
     "evalue": "name 'model' is not defined",
     "output_type": "error",
     "traceback": [
      "\u001b[0;31m---------------------------------------------------------------------------\u001b[0m",
      "\u001b[0;31mNameError\u001b[0m                                 Traceback (most recent call last)",
      "Input \u001b[0;32mIn [73]\u001b[0m, in \u001b[0;36m<cell line: 1>\u001b[0;34m()\u001b[0m\n\u001b[0;32m----> 1\u001b[0m \u001b[43mmodel\u001b[49m\u001b[38;5;241m.\u001b[39mfit(\n\u001b[1;32m      2\u001b[0m     trainX,trainY,\n\u001b[1;32m      3\u001b[0m     verbose\u001b[38;5;241m=\u001b[39m\u001b[38;5;241m1\u001b[39m,\n\u001b[1;32m      4\u001b[0m     epochs\u001b[38;5;241m=\u001b[39m\u001b[38;5;241m5\u001b[39m,\n\u001b[1;32m      5\u001b[0m     callbacks\u001b[38;5;241m=\u001b[39mcallbacks\n\u001b[1;32m      6\u001b[0m )\n",
      "\u001b[0;31mNameError\u001b[0m: name 'model' is not defined"
     ]
    }
   ],
   "source": [
    "model.fit(\n",
    "    trainX,trainY,\n",
    "    verbose=1,\n",
    "    epochs=5,\n",
    "    callbacks=callbacks\n",
    ")"
   ]
  },
  {
   "cell_type": "code",
   "execution_count": null,
   "id": "3fa8612c-be1a-48a1-bbb0-1c23d37b134c",
   "metadata": {},
   "outputs": [],
   "source": [
    "validX.shape"
   ]
  },
  {
   "cell_type": "code",
   "execution_count": null,
   "id": "28652224-a156-4799-8358-db309a428cbe",
   "metadata": {},
   "outputs": [],
   "source": [
    "validY.shape"
   ]
  },
  {
   "cell_type": "code",
   "execution_count": null,
   "id": "3cdfaaf3-7732-4625-882b-9093d499e1a2",
   "metadata": {},
   "outputs": [],
   "source": [
    "trainX.shape"
   ]
  },
  {
   "cell_type": "code",
   "execution_count": null,
   "id": "fffa3ae4-aeca-4586-83ed-fc19d87a0780",
   "metadata": {},
   "outputs": [],
   "source": [
    "trainY.shape"
   ]
  },
  {
   "cell_type": "code",
   "execution_count": 31,
   "id": "8c1b31ce-5ec2-4f2d-af5b-cadd8afdfea8",
   "metadata": {},
   "outputs": [
    {
     "ename": "AttributeError",
     "evalue": "'list' object has no attribute 'shape'",
     "output_type": "error",
     "traceback": [
      "\u001b[0;31m---------------------------------------------------------------------------\u001b[0m",
      "\u001b[0;31mAttributeError\u001b[0m                            Traceback (most recent call last)",
      "Input \u001b[0;32mIn [31]\u001b[0m, in \u001b[0;36m<cell line: 1>\u001b[0;34m()\u001b[0m\n\u001b[0;32m----> 1\u001b[0m \u001b[43mx_train\u001b[49m\u001b[38;5;241;43m.\u001b[39;49m\u001b[43mshape\u001b[49m\n",
      "\u001b[0;31mAttributeError\u001b[0m: 'list' object has no attribute 'shape'"
     ]
    }
   ],
   "source": [
    "x_train.shape"
   ]
  },
  {
   "cell_type": "code",
   "execution_count": null,
   "id": "0ca67d10-0a7b-4ca9-ab9c-d7cd7d8196e5",
   "metadata": {},
   "outputs": [],
   "source": []
  }
 ],
 "metadata": {
  "kernelspec": {
   "display_name": "Python 3.8",
   "language": "python",
   "name": "python3"
  },
  "language_info": {
   "codemirror_mode": {
    "name": "ipython",
    "version": 3
   },
   "file_extension": ".py",
   "mimetype": "text/x-python",
   "name": "python",
   "nbconvert_exporter": "python",
   "pygments_lexer": "ipython3",
   "version": "3.8.6"
  }
 },
 "nbformat": 4,
 "nbformat_minor": 5
}
